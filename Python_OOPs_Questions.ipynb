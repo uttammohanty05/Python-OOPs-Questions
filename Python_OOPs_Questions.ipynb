{
  "nbformat": 4,
  "nbformat_minor": 0,
  "metadata": {
    "colab": {
      "provenance": []
    },
    "kernelspec": {
      "name": "python3",
      "display_name": "Python 3"
    },
    "language_info": {
      "name": "python"
    }
  },
  "cells": [
    {
      "cell_type": "markdown",
      "source": [
        "# theoretical question"
      ],
      "metadata": {
        "id": "RJW-BuINAQ9v"
      }
    },
    {
      "cell_type": "markdown",
      "source": [
        "01.  What is Object-Oriented Programming (OOP)?"
      ],
      "metadata": {
        "id": "yNTtz1OnAtzo"
      }
    },
    {
      "cell_type": "markdown",
      "source": [
        "Ans:- **Object-Oriented Programming (OOP)** is a programming approach that organizes code using **objects**, which are instances of **classes**. These objects combine **data** (attributes) and **behavior** (methods).\n",
        "\n",
        "---\n",
        "\n",
        "### 🔹 **Key Concepts (Short Form):**\n",
        "\n",
        "- **Class** – Blueprint for objects  \n",
        "- **Object** – Instance of a class  \n",
        "- **Encapsulation** – Hiding internal details  \n",
        "- **Inheritance** – Reusing code from other classes  \n",
        "- **Polymorphism** – Same method, different behavior  \n",
        "- **Abstraction** – Hiding complexity, showing only essentials\n",
        "\n",
        "---\n",
        "\n",
        "It helps write **clean, reusable, and organized code** by modeling real-world entities.\n",
        "\n"
      ],
      "metadata": {
        "id": "FcIt0JznA0Hf"
      }
    },
    {
      "cell_type": "markdown",
      "source": [
        "02. What is a class in OOP?"
      ],
      "metadata": {
        "id": "pELHGyWEBZ2O"
      }
    },
    {
      "cell_type": "markdown",
      "source": [
        "Ans:- **Class in Python (OOP) – Short Form:**\n",
        "\n",
        "A **class** is a blueprint for creating **objects**. It defines attributes (data) and methods (functions) that the objects will have.\n",
        "\n",
        "---\n",
        "\n",
        "### 🔹 Example:\n",
        "```python\n",
        "class Car:\n",
        "    def __init__(self, brand):\n",
        "        self.brand = brand\n",
        "\n",
        "    def drive(self):\n",
        "        print(f\"{self.brand} is driving\")\n",
        "```\n",
        "\n",
        "### 🔹 Key Points:\n",
        "- Defines structure and behavior\n",
        "- Created using `class` keyword\n",
        "- Objects are instances of a class"
      ],
      "metadata": {
        "id": "KrZqrm9zBdnt"
      }
    },
    {
      "cell_type": "markdown",
      "source": [
        "03. What is an object in OOP?"
      ],
      "metadata": {
        "id": "bJuUYmB8BuQG"
      }
    },
    {
      "cell_type": "markdown",
      "source": [
        "Ans:- An object is an instance of a class. It represents a real-world entity with data (attributes) and behavior (methods).\n",
        "\n",
        "🔹 Example:\n",
        "  \n",
        "  class Car:\n",
        "    def __init__(self, brand):\n",
        "        self.brand = brand\n",
        "\n",
        "   car1 = Car(\"Toyota\")  # car1 is an object\n",
        "   car1.brand             # Output: 'Toyota'\n",
        "\n",
        "🔹 Key Points:\n",
        "\n",
        "🔹Created from a class\n",
        "\n",
        "🔹Has its own data and methods\n",
        "\n",
        "🔹Multiple objects can be created from the same class\n",
        "\n",
        "\n"
      ],
      "metadata": {
        "id": "DAcnKTYqCCgd"
      }
    },
    {
      "cell_type": "markdown",
      "source": [
        "04.  What is the difference between abstraction and encapsulation?"
      ],
      "metadata": {
        "id": "FO0w7RANCcG9"
      }
    },
    {
      "cell_type": "markdown",
      "source": [
        "Ans:- 🔹 Abstraction is about hiding the complex logic and showing only the necessary features. It focuses on what an object does, not how it does it. For example, when you drive a car, you don’t need to know how the engine works — just how to use the steering wheel, pedals, etc.\n",
        "\n",
        "🔹 Encapsulation is about hiding the internal data of a class and only allowing access through specific methods. It focuses on how data is protected and controlled. This is done using private or protected variables and getter/setter methods in Python.\n",
        "\n"
      ],
      "metadata": {
        "id": "eNlYCY6ZCfyU"
      }
    },
    {
      "cell_type": "markdown",
      "source": [
        "05. What are dunder methods in Python?"
      ],
      "metadata": {
        "id": "zUg-56RJDAtj"
      }
    },
    {
      "cell_type": "markdown",
      "source": [
        "Ans:- Dunder methods let objects behave like built-in types (e.g., support +, len(), print(), etc.)."
      ],
      "metadata": {
        "id": "niLFQ7XRDE0M"
      }
    },
    {
      "cell_type": "markdown",
      "source": [
        "06. Explain the concept of inheritance in OOP?"
      ],
      "metadata": {
        "id": "p02ZYLCJDWfb"
      }
    },
    {
      "cell_type": "markdown",
      "source": [
        "Ans:- Inheritance is an OOP concept where a class (called the child or subclass) inherits properties and methods from another class (called the parent or superclass).\n",
        "\n",
        "It allows code reuse, helps with organization, and supports the \"is-a\" relationship.\n",
        "\n"
      ],
      "metadata": {
        "id": "hSOvl4AUDmOz"
      }
    },
    {
      "cell_type": "markdown",
      "source": [
        "07. What is polymorphism in OOP?"
      ],
      "metadata": {
        "id": "zWJRY7uiDqZz"
      }
    },
    {
      "cell_type": "markdown",
      "source": [
        "Ans:- Polymorphism means \"many forms.\" In OOP, it allows the same method or function name to behave differently depending on the object that calls it.\n",
        "\n"
      ],
      "metadata": {
        "id": "fYzvaUFADvkr"
      }
    },
    {
      "cell_type": "markdown",
      "source": [
        "08. How is encapsulation achieved in Python?"
      ],
      "metadata": {
        "id": "dsev-_3ZD6Ri"
      }
    },
    {
      "cell_type": "markdown",
      "source": [
        "Ans:-  Encapsulation is used to hide data and protect it from being changed directly.\n",
        "\n",
        "Encapsulation = Keep data safe + control access using methods.\n",
        "\n"
      ],
      "metadata": {
        "id": "DqYKUnEWD-Nq"
      }
    },
    {
      "cell_type": "markdown",
      "source": [
        "09. What is a constructor in Python?\n"
      ],
      "metadata": {
        "id": "k-_x-m-3EYqq"
      }
    },
    {
      "cell_type": "markdown",
      "source": [
        "ANs:- A constructor is a special method in Python used to initialize objects when they are created.\n",
        "\n",
        " In Python, the constructor is:\n",
        "\n",
        " def __init__(self):\n",
        "(It runs automatically when you create an object from a class.)\n",
        "\n",
        "Example:\n",
        "\n",
        "    class Person:\n",
        "    def __init__(self, name):\n",
        "        self.name = name\n",
        "\n",
        "p = Person(\"Alice\")  # __init__ runs here\n",
        "print(p.name)        # Output: Alice\n",
        "\n",
        "\n"
      ],
      "metadata": {
        "id": "zVv4A5HWEc9y"
      }
    },
    {
      "cell_type": "markdown",
      "source": [
        "10. What are class and static methods in Python?"
      ],
      "metadata": {
        "id": "SOJDlFKWE0RD"
      }
    },
    {
      "cell_type": "markdown",
      "source": [
        "Ans:- **Class Method**\n",
        "\n",
        "🔹Defined with @classmethod\n",
        "\n",
        "🔹Takes cls as the first argument\n",
        "\n",
        "🔹Can access or change class variables\n",
        "\n",
        " ** Static Method**\n",
        "\n",
        " 🔹Defined with @staticmethod\n",
        "\n",
        " 🔹akes no self or cls\n",
        "\n",
        " 🔹Just a regular function inside a class (no access to class or object data)\n",
        "\n"
      ],
      "metadata": {
        "id": "gbF1scIZE0Oa"
      }
    },
    {
      "cell_type": "markdown",
      "source": [
        "11. What is method overloading in Python?"
      ],
      "metadata": {
        "id": "HlrbRsJQGKb5"
      }
    },
    {
      "cell_type": "markdown",
      "source": [
        "Ans:- Method overloading means having multiple methods with the same name but different parameters.But in Python\n",
        "Python doesn't support traditional method overloading like some other languages (e.g., Java).\n",
        "You can’t define multiple methods with the same name in a class — the last one will overwrite the others.\n",
        "\n"
      ],
      "metadata": {
        "id": "COxwgTJEGOcA"
      }
    },
    {
      "cell_type": "markdown",
      "source": [
        "12. What is method overriding in OOP?"
      ],
      "metadata": {
        "id": "ZTla3ErgGjgJ"
      }
    },
    {
      "cell_type": "markdown",
      "source": [
        "Ans:- Method overriding means a child class provides its own version of a method that is already defined in the parent class.\n",
        "\n"
      ],
      "metadata": {
        "id": "Jo25wDhVGn85"
      }
    },
    {
      "cell_type": "markdown",
      "source": [
        "13.  What is a property decorator in Python?\n"
      ],
      "metadata": {
        "id": "gqmV7SZDGuNo"
      }
    },
    {
      "cell_type": "markdown",
      "source": [
        "Ans;- The @property decorator in Python is used to turn a method into a \"read-only\" attribute.\n",
        "\n",
        "It lets you access a method like a variable, which is useful for encapsulation and cleaner code."
      ],
      "metadata": {
        "id": "onSOXhLHGyLo"
      }
    },
    {
      "cell_type": "markdown",
      "source": [
        "14.  Why is polymorphism important in OOP?"
      ],
      "metadata": {
        "id": "B8ZC4SlCG7Qf"
      }
    },
    {
      "cell_type": "markdown",
      "source": [
        "Ans:- Polymorphism makes your code more flexible, reusable, and easier to maintain, especially when working with many object types that share common behavior."
      ],
      "metadata": {
        "id": "arQuLevNG-eX"
      }
    },
    {
      "cell_type": "markdown",
      "source": [
        "15.  What is an abstract class in Python?"
      ],
      "metadata": {
        "id": "077Jxy5nHGqn"
      }
    },
    {
      "cell_type": "markdown",
      "source": [
        "AnsL:- An abstract class is a class that cannot be directly instantiated and is used to define a common interface for its subclasses.\n",
        "\n",
        "It may contain abstract methods—methods that are declared but not implemented.\n",
        "\n"
      ],
      "metadata": {
        "id": "lp3qAaP1HKwv"
      }
    },
    {
      "cell_type": "markdown",
      "source": [
        "16. What are the advantages of OOP?"
      ],
      "metadata": {
        "id": "O2oSyaOQHZBP"
      }
    },
    {
      "cell_type": "markdown",
      "source": [
        "Ans:- Advantages of OOP (Object-Oriented Programming):\n",
        "\n",
        "01.Easy to Understand – Code is organized using classes and objects\n",
        "\n",
        "02.Reusability – Use existing code again with inheritance\n",
        "\n",
        "03.Data Protection – Keeps data safe using encapsulation\n",
        "\n",
        "04.Flexible Code – One function can work in many ways (polymorphism)\n",
        "\n",
        "05.Easy to Maintain – Bugs and updates are easier to handle\n",
        "\n",
        "06.Expandable – Easy to add new features without breaking old code"
      ],
      "metadata": {
        "id": "pkgRuvUTHcee"
      }
    },
    {
      "cell_type": "markdown",
      "source": [
        "17. What is the difference between a class variable and an instance variable?\n"
      ],
      "metadata": {
        "id": "ctksSp6DH5W3"
      }
    },
    {
      "cell_type": "markdown",
      "source": [
        "Ans:- **Class Variable**\n",
        "\n",
        "🔹Shared by all objects of the class\n",
        "\n",
        "🔹Defined outside any method, inside the class\n",
        "\n",
        "🔹Changes affect all instances\n",
        "\n",
        "   **Instance Variable**\n",
        "\n",
        "🔹Unique to each object\n",
        "\n",
        "🔹Defined inside __init__ using self\n",
        "\n",
        "🔹Changes affect only that specific object\n",
        "\n",
        "\n"
      ],
      "metadata": {
        "id": "hMaW4igNH93H"
      }
    },
    {
      "cell_type": "markdown",
      "source": [
        "18. What is multiple inheritance in Python?"
      ],
      "metadata": {
        "id": "RRH_iJa-IcIe"
      }
    },
    {
      "cell_type": "markdown",
      "source": [
        "Ans:- Multiple inheritance means a class can inherit from more than one parent class at the same time.\n",
        "\n"
      ],
      "metadata": {
        "id": "jqt7OkzIIlkW"
      }
    },
    {
      "cell_type": "markdown",
      "source": [
        "19.  Explain the purpose of ‘’__str__’ and ‘__repr__’ ‘ methods in Python?"
      ],
      "metadata": {
        "id": "FVbI57PyIrwO"
      }
    },
    {
      "cell_type": "markdown",
      "source": [
        "Ans:-  ** __str__()**\n",
        "\n",
        " 🔹Called by print() and str()\n",
        "\n",
        " 🔹Meant for users\n",
        "\n",
        " 🔹Should return a readable and friendly string\n",
        "\n",
        "        **__repr__()**\n",
        "\n",
        " 🔹Called by repr() and in the Python shell\n",
        "\n",
        " 🔹Meant for developers\n",
        "\n",
        " 🔹Should return a string that can recreate the object (or at least be detailed)\n",
        "\n",
        "\n",
        "\n"
      ],
      "metadata": {
        "id": "XbcMuBdIIvQF"
      }
    },
    {
      "cell_type": "markdown",
      "source": [
        "20. What is the significance of the ‘super()’ function in Python?"
      ],
      "metadata": {
        "id": "vaUm1iH_JSSe"
      }
    },
    {
      "cell_type": "markdown",
      "source": [
        "Ans:- The super() function is used to call methods from the parent class inside a child class.\n",
        "It's mostly used in inheritance to avoid repeating code from the parent.\n",
        "\n"
      ],
      "metadata": {
        "id": "Uud8QYMvJVaV"
      }
    },
    {
      "cell_type": "markdown",
      "source": [
        "21.  What is the significance of the __del__ method in Python?"
      ],
      "metadata": {
        "id": "t6Wt7N5bJc49"
      }
    },
    {
      "cell_type": "markdown",
      "source": [
        "Ans:-The __del__ method is a destructor in Python.\n",
        "It’s called automatically when an object is about to be destroyed (i.e., when there are no more references to it).\n",
        "\n"
      ],
      "metadata": {
        "id": "nvq5LpXHJgOn"
      }
    },
    {
      "cell_type": "markdown",
      "source": [
        "22.  What is the difference between @staticmethod and @classmethod in Python?"
      ],
      "metadata": {
        "id": "dcnQbkVMJnj9"
      }
    },
    {
      "cell_type": "markdown",
      "source": [
        "Ans:-   ** @staticmethod**\n",
        "\n",
        "🔹Doesn’t take self or cls\n",
        "\n",
        "🔹Can’t access or modify class or instance data\n",
        "\n",
        "🔹Just a regular function placed inside a class for better organization\n",
        "\n",
        "      ** @classmethod**\n",
        "\n",
        "🔹Takes cls as the first argument\n",
        "\n",
        "🔹Can access or modify class variables\n",
        "\n",
        "🔹Works with the class, not the instance\n",
        "\n",
        "\n"
      ],
      "metadata": {
        "id": "WAHJxa4jJrC0"
      }
    },
    {
      "cell_type": "markdown",
      "source": [
        "23. How does polymorphism work in Python with inheritance?"
      ],
      "metadata": {
        "id": "r2q2ieE9KI60"
      }
    },
    {
      "cell_type": "markdown",
      "source": [
        "Ans:- Polymorphism allows different classes to have methods with the same name, and you can use them interchangeably when they share a common parent.\n",
        "\n",
        "How it works with inheritance:\n",
        "\n",
        "🔹You create a base class with a method.\n",
        "\n",
        "🔹Child classes override that method with their own version.\n",
        "\n",
        "🔹You can call the method using a base class reference, and the correct version runs automatically.\n",
        "\n",
        "\n"
      ],
      "metadata": {
        "id": "zAK-LtLMKKvc"
      }
    },
    {
      "cell_type": "markdown",
      "source": [
        "24.  What is method chaining in Python OOP?"
      ],
      "metadata": {
        "id": "_V5-swSDKeet"
      }
    },
    {
      "cell_type": "markdown",
      "source": [
        "Ans:- Method chaining means calling multiple methods in a single line, one after another, using dot (.) notation.\n",
        "\n",
        "It works by returning self from each method, so the next method can be called on the same object.\n",
        "\n"
      ],
      "metadata": {
        "id": "GdMT9dy1Kiu7"
      }
    },
    {
      "cell_type": "markdown",
      "source": [
        "25. What is the purpose of the __call__ method in Python?"
      ],
      "metadata": {
        "id": "XrZoouJbKoLz"
      }
    },
    {
      "cell_type": "markdown",
      "source": [
        "Ans:- The __call__ method lets you make an object behave like a function.\n",
        "\n",
        "When you define __call__ in a class, you can \"call\" the object itself using parentheses () just like a regular function."
      ],
      "metadata": {
        "id": "GKZzyCszKwek"
      }
    },
    {
      "cell_type": "markdown",
      "source": [
        "# practical question"
      ],
      "metadata": {
        "id": "XQZHhVrPAMcJ"
      }
    },
    {
      "cell_type": "markdown",
      "source": [
        "01. Create a parent class Animal with a method speak() that prints a generic message. Create a child class Dog\n",
        "that overrides the speak() method to print \"Bark!\"."
      ],
      "metadata": {
        "id": "URIOgMq8ARQn"
      }
    },
    {
      "cell_type": "code",
      "source": [
        "class Animal:\n",
        "    def speak(self):\n",
        "        print(\"The animal makes a sound.\")\n",
        "\n",
        "class Dog(Animal):\n",
        "    def speak(self):\n",
        "        print(\"Bark!\")\n",
        "\n",
        "# Example usage\n",
        "animal = Animal()\n",
        "animal.speak()  # Output: The animal makes a sound.\n",
        "\n",
        "dog = Dog()\n",
        "dog.speak()     # Output: Bark!\n"
      ],
      "metadata": {
        "id": "dD4qfcaTGi-A",
        "colab": {
          "base_uri": "https://localhost:8080/"
        },
        "outputId": "3555969d-d7a1-4ffc-e004-66773095e248"
      },
      "execution_count": 4,
      "outputs": [
        {
          "output_type": "stream",
          "name": "stdout",
          "text": [
            "The animal makes a sound.\n",
            "Bark!\n"
          ]
        }
      ]
    },
    {
      "cell_type": "markdown",
      "source": [
        "02. Write a program to create an abstract class Shape with a method area(). Derive classes Circle and Rectangle\n",
        "from it and implement the area() method in both.\n",
        "\n",
        "\n"
      ],
      "metadata": {
        "id": "SLOfwkP_AyvY"
      }
    },
    {
      "cell_type": "code",
      "execution_count": 5,
      "metadata": {
        "id": "UnErHm_uAQLN",
        "colab": {
          "base_uri": "https://localhost:8080/"
        },
        "outputId": "1b3c99c5-fd4e-4d40-df54-52d2b593a03d"
      },
      "outputs": [
        {
          "output_type": "stream",
          "name": "stdout",
          "text": [
            "Circle area: 78.54\n",
            "Rectangle area: 24.00\n"
          ]
        }
      ],
      "source": [
        "from abc import ABC, abstractmethod\n",
        "import math\n",
        "\n",
        "# Abstract base class\n",
        "class Shape(ABC):\n",
        "    @abstractmethod\n",
        "    def area(self):\n",
        "        pass\n",
        "\n",
        "# Derived class: Circle\n",
        "class Circle(Shape):\n",
        "    def __init__(self, radius):\n",
        "        self.radius = radius\n",
        "\n",
        "    def area(self):\n",
        "        return math.pi * self.radius ** 2\n",
        "\n",
        "# Derived class: Rectangle\n",
        "class Rectangle(Shape):\n",
        "    def __init__(self, width, height):\n",
        "        self.width = width\n",
        "        self.height = height\n",
        "\n",
        "    def area(self):\n",
        "        return self.width * self.height\n",
        "\n",
        "# Example usage\n",
        "circle = Circle(5)\n",
        "rectangle = Rectangle(4, 6)\n",
        "\n",
        "print(f\"Circle area: {circle.area():.2f}\")       # Output: Circle area: 78.54\n",
        "print(f\"Rectangle area: {rectangle.area():.2f}\") # Output: Rectangle area: 24.00\n"
      ]
    },
    {
      "cell_type": "markdown",
      "source": [
        "03.  Implement a multi-level inheritance scenario where a class Vehicle has an attribute type. Derive a class Car\n",
        "and further derive a class ElectricCar that adds a battery attribute."
      ],
      "metadata": {
        "id": "fMfdhV_WA_zf"
      }
    },
    {
      "cell_type": "code",
      "source": [
        "# Base class\n",
        "class Vehicle:\n",
        "    def __init__(self, vehicle_type):\n",
        "        self.type = vehicle_type\n",
        "\n",
        "    def display_info(self):\n",
        "        print(f\"Vehicle type: {self.type}\")\n",
        "\n",
        "# First level of inheritance\n",
        "class Car(Vehicle):\n",
        "    def __init__(self, vehicle_type, brand):\n",
        "        super().__init__(vehicle_type)\n",
        "        self.brand = brand\n",
        "\n",
        "    def display_info(self):\n",
        "        super().display_info()\n",
        "        print(f\"Car brand: {self.brand}\")\n",
        "\n",
        "# Second level of inheritance\n",
        "class ElectricCar(Car):\n",
        "    def __init__(self, vehicle_type, brand, battery_capacity):\n",
        "        super().__init__(vehicle_type, brand)\n",
        "        self.battery = battery_capacity\n",
        "\n",
        "    def display_info(self):\n",
        "        super().display_info()\n",
        "        print(f\"Battery capacity: {self.battery} kWh\")\n",
        "\n",
        "# Example usage\n",
        "ecar = ElectricCar(\"Electric\", \"Tesla\", 75)\n",
        "ecar.display_info()\n"
      ],
      "metadata": {
        "colab": {
          "base_uri": "https://localhost:8080/"
        },
        "id": "YSu-1fo8A7Cf",
        "outputId": "60e29bbd-0af3-4efc-efbd-f4148026b801"
      },
      "execution_count": 6,
      "outputs": [
        {
          "output_type": "stream",
          "name": "stdout",
          "text": [
            "Vehicle type: Electric\n",
            "Car brand: Tesla\n",
            "Battery capacity: 75 kWh\n"
          ]
        }
      ]
    },
    {
      "cell_type": "markdown",
      "source": [
        "04.  Demonstrate polymorphism by creating a base class Bird with a method fly(). Create two derived classes\n",
        "Sparrow and Penguin that override the fly() method.\n"
      ],
      "metadata": {
        "id": "AnR4Vsb3BNj-"
      }
    },
    {
      "cell_type": "code",
      "source": [
        "# Base class\n",
        "class Bird:\n",
        "    def fly(self):\n",
        "        print(\"Some bird is flying...\")\n",
        "\n",
        "# Derived class: Sparrow\n",
        "class Sparrow(Bird):\n",
        "    def fly(self):\n",
        "        print(\"Sparrow flies high in the sky!\")\n",
        "\n",
        "# Derived class: Penguin\n",
        "class Penguin(Bird):\n",
        "    def fly(self):\n",
        "        print(\"Penguins can't fly, they waddle!\")\n",
        "\n",
        "# Polymorphism in action\n",
        "def bird_flight(bird):\n",
        "    bird.fly()\n",
        "\n",
        "# Example usage\n",
        "sparrow = Sparrow()\n",
        "penguin = Penguin()\n",
        "\n",
        "bird_flight(sparrow)  # Output: Sparrow flies high in the sky!\n",
        "bird_flight(penguin)  # Output: Penguins can't fly, they waddle!\n"
      ],
      "metadata": {
        "colab": {
          "base_uri": "https://localhost:8080/"
        },
        "id": "_dh0EUFWBLiv",
        "outputId": "b865bb49-137c-497f-850e-c9d5ef145d0e"
      },
      "execution_count": 7,
      "outputs": [
        {
          "output_type": "stream",
          "name": "stdout",
          "text": [
            "Sparrow flies high in the sky!\n",
            "Penguins can't fly, they waddle!\n"
          ]
        }
      ]
    },
    {
      "cell_type": "markdown",
      "source": [
        "05. Write a program to demonstrate encapsulation by creating a class BankAccount with private attributes\n",
        "balance and methods to deposit, withdraw, and check balance.\n",
        "\n",
        "\n"
      ],
      "metadata": {
        "id": "bp5hdo-RBZBf"
      }
    },
    {
      "cell_type": "code",
      "source": [
        "class BankAccount:\n",
        "    def __init__(self, initial_balance=0):\n",
        "        self.__balance = initial_balance  # private attribute\n",
        "\n",
        "    # Method to deposit money\n",
        "    def deposit(self, amount):\n",
        "        if amount > 0:\n",
        "            self.__balance += amount\n",
        "            print(f\"Deposited ₹{amount}\")\n",
        "        else:\n",
        "            print(\"Deposit amount must be positive.\")\n",
        "\n",
        "    # Method to withdraw money\n",
        "    def withdraw(self, amount):\n",
        "        if 0 < amount <= self.__balance:\n",
        "            self.__balance -= amount\n",
        "            print(f\"Withdrew ₹{amount}\")\n",
        "        else:\n",
        "            print(\"Insufficient balance or invalid amount.\")\n",
        "\n",
        "    # Method to check balance\n",
        "    def check_balance(self):\n",
        "        print(f\"Current balance: ₹{self.__balance}\")\n",
        "\n",
        "# Example usage\n",
        "account = BankAccount(5000)\n",
        "account.check_balance()     # Output: Current balance: ₹5000\n",
        "account.deposit(2000)       # Output: Deposited ₹2000\n",
        "account.withdraw(1500)      # Output: Withdrew ₹1500\n",
        "account.check_balance()     # Output: Current balance: ₹5500\n",
        "\n",
        "# Trying to access the private attribute directly (not allowed)\n",
        "# print(account.__balance)  # This will raise an AttributeError\n"
      ],
      "metadata": {
        "colab": {
          "base_uri": "https://localhost:8080/"
        },
        "id": "RzGCU-GJBW_-",
        "outputId": "d00235bb-17a5-49f8-cbe0-7095984c0939"
      },
      "execution_count": 9,
      "outputs": [
        {
          "output_type": "stream",
          "name": "stdout",
          "text": [
            "Current balance: ₹5000\n",
            "Deposited ₹2000\n",
            "Withdrew ₹1500\n",
            "Current balance: ₹5500\n"
          ]
        }
      ]
    },
    {
      "cell_type": "markdown",
      "source": [
        "06.  Demonstrate runtime polymorphism using a method play() in a base class Instrument. Derive classes Guitar\n",
        "and Piano that implement their own version of play()."
      ],
      "metadata": {
        "id": "UbcJ-apOB8dm"
      }
    },
    {
      "cell_type": "code",
      "source": [
        "# Base class\n",
        "class Instrument:\n",
        "    def play(self):\n",
        "        print(\"An instrument is being played.\")\n",
        "\n",
        "# Derived class: Guitar\n",
        "class Guitar(Instrument):\n",
        "    def play(self):\n",
        "        print(\"Strumming the guitar strings!\")\n",
        "\n",
        "# Derived class: Piano\n",
        "class Piano(Instrument):\n",
        "    def play(self):\n",
        "        print(\"Playing the piano keys!\")\n",
        "\n",
        "# Function to demonstrate runtime polymorphism\n",
        "def start_playing(instrument):\n",
        "    instrument.play()  # The version of play() called depends on the object's actual class\n",
        "\n",
        "# Example usage\n",
        "guitar = Guitar()\n",
        "piano = Piano()\n",
        "\n",
        "start_playing(guitar)  # Output: Strumming the guitar strings!\n",
        "start_playing(piano)   # Output: Playing the piano keys!\n"
      ],
      "metadata": {
        "colab": {
          "base_uri": "https://localhost:8080/"
        },
        "id": "bbgL8JeVBhrm",
        "outputId": "fe75462e-1b59-4257-f97b-a6bdc9538abd"
      },
      "execution_count": 10,
      "outputs": [
        {
          "output_type": "stream",
          "name": "stdout",
          "text": [
            "Strumming the guitar strings!\n",
            "Playing the piano keys!\n"
          ]
        }
      ]
    },
    {
      "cell_type": "markdown",
      "source": [
        "07.  Create a class MathOperations with a class method add_numbers() to add two numbers and a static\n",
        "method subtract_numbers() to subtract two numbers."
      ],
      "metadata": {
        "id": "Tbi7ErVHGsvZ"
      }
    },
    {
      "cell_type": "code",
      "source": [
        "class MathOperations:\n",
        "    @classmethod\n",
        "    def add_numbers(cls, a, b):\n",
        "        return a + b\n",
        "\n",
        "    @staticmethod\n",
        "    def subtract_numbers(a, b):\n",
        "        return a - b\n",
        "\n",
        "# Example usage\n",
        "sum_result = MathOperations.add_numbers(10, 5)\n",
        "diff_result = MathOperations.subtract_numbers(10, 5)\n",
        "\n",
        "print(f\"Sum: {sum_result}\")         # Output: Sum: 15\n",
        "print(f\"Difference: {diff_result}\") # Output: Difference: 5\n"
      ],
      "metadata": {
        "colab": {
          "base_uri": "https://localhost:8080/"
        },
        "id": "nIBzpB_cCFgn",
        "outputId": "597e25ab-d862-47b9-aa91-b58c15a55b61"
      },
      "execution_count": 11,
      "outputs": [
        {
          "output_type": "stream",
          "name": "stdout",
          "text": [
            "Sum: 15\n",
            "Difference: 5\n"
          ]
        }
      ]
    },
    {
      "cell_type": "markdown",
      "source": [
        "08.  Implement a class Person with a class method to count the total number of persons created."
      ],
      "metadata": {
        "id": "AsohPBU3HUMp"
      }
    },
    {
      "cell_type": "code",
      "source": [
        "class Person:\n",
        "    count = 0  # Class variable to track number of instances\n",
        "\n",
        "    def __init__(self, name):\n",
        "        self.name = name\n",
        "        Person.count += 1  # Increment count whenever a new object is created\n",
        "\n",
        "    @classmethod\n",
        "    def total_persons(cls):\n",
        "        return cls.count\n",
        "\n",
        "# Example usage\n",
        "p1 = Person(\"Amit\")\n",
        "p2 = Person(\"Neha\")\n",
        "p3 = Person(\"Rahul\")\n",
        "\n",
        "print(f\"Total persons created: {Person.total_persons()}\")  # Output: Total persons created: 3\n",
        "\n"
      ],
      "metadata": {
        "colab": {
          "base_uri": "https://localhost:8080/"
        },
        "id": "FKXF9qvBHQ54",
        "outputId": "bb55c949-58b5-4326-bfae-a7a9cdbf0fbd"
      },
      "execution_count": 12,
      "outputs": [
        {
          "output_type": "stream",
          "name": "stdout",
          "text": [
            "Total persons created: 3\n"
          ]
        }
      ]
    },
    {
      "cell_type": "markdown",
      "source": [
        "09.  Write a class Fraction with attributes numerator and denominator. Override the str method to display the\n",
        "fraction as \"numerator/denominator\"."
      ],
      "metadata": {
        "id": "dzVWEy9DHdSw"
      }
    },
    {
      "cell_type": "code",
      "source": [
        "class Fraction:\n",
        "    def __init__(self, numerator, denominator):\n",
        "        if denominator == 0:\n",
        "            raise ValueError(\"Denominator cannot be zero.\")\n",
        "        self.numerator = numerator\n",
        "        self.denominator = denominator\n",
        "\n",
        "    def __str__(self):\n",
        "        return f\"{self.numerator}/{self.denominator}\"\n",
        "\n",
        "# Example usage\n",
        "f1 = Fraction(3, 4)\n",
        "f2 = Fraction(7, 2)\n",
        "\n",
        "print(f\"Fraction 1: {f1}\")  # Output: Fraction 1: 3/4\n",
        "print(f\"Fraction 2: {f2}\")  # Output: Fraction 2: 7/2\n"
      ],
      "metadata": {
        "colab": {
          "base_uri": "https://localhost:8080/"
        },
        "id": "hGMtax6jHb4I",
        "outputId": "ff321b94-98b6-43ee-9965-18d1af01f7c3"
      },
      "execution_count": 13,
      "outputs": [
        {
          "output_type": "stream",
          "name": "stdout",
          "text": [
            "Fraction 1: 3/4\n",
            "Fraction 2: 7/2\n"
          ]
        }
      ]
    },
    {
      "cell_type": "markdown",
      "source": [
        "10. Demonstrate operator overloading by creating a class Vector and overriding the add method to add two\n",
        "vectors."
      ],
      "metadata": {
        "id": "4Qg5Fg5MHm-Q"
      }
    },
    {
      "cell_type": "code",
      "source": [
        "class Vector:\n",
        "    def __init__(self, x, y):\n",
        "        self.x = x\n",
        "        self.y = y\n",
        "\n",
        "    # Overload the + operator\n",
        "    def __add__(self, other):\n",
        "        return Vector(self.x + other.x, self.y + other.y)\n",
        "\n",
        "    # For readable output\n",
        "    def __str__(self):\n",
        "        return f\"Vector({self.x}, {self.y})\"\n",
        "\n",
        "# Example usage\n",
        "v1 = Vector(2, 3)\n",
        "v2 = Vector(4, 1)\n",
        "v3 = v1 + v2  # Calls __add__\n",
        "\n",
        "print(f\"v1: {v1}\")  # Output: Vector(2, 3)\n",
        "print(f\"v2: {v2}\")  # Output: Vector(4, 1)\n",
        "print(f\"v1 + v2 = {v3}\")  # Output: Vector(6, 4)\n",
        "\n"
      ],
      "metadata": {
        "colab": {
          "base_uri": "https://localhost:8080/"
        },
        "id": "nfIp7U6THlp5",
        "outputId": "5fb9b348-1b8d-436e-a49c-b614f1c1b25e"
      },
      "execution_count": 14,
      "outputs": [
        {
          "output_type": "stream",
          "name": "stdout",
          "text": [
            "v1: Vector(2, 3)\n",
            "v2: Vector(4, 1)\n",
            "v1 + v2 = Vector(6, 4)\n"
          ]
        }
      ]
    },
    {
      "cell_type": "markdown",
      "source": [
        "11.  Create a class Person with attributes name and age. Add a method greet() that prints \"Hello, my name is\n",
        "{name} and I am {age} years old.\""
      ],
      "metadata": {
        "id": "WcpvluJfHw6I"
      }
    },
    {
      "cell_type": "code",
      "source": [
        "class Person:\n",
        "    def __init__(self, name, age):\n",
        "        self.name = name\n",
        "        self.age = age\n",
        "\n",
        "    def greet(self):\n",
        "        print(f\"Hello, my name is {self.name} and I am {self.age} years old.\")\n",
        "\n",
        "# Example usage\n",
        "p1 = Person(\"Uttam\", 21)\n",
        "p1.greet()  # Output: Hello, my name is Ananya and I am 25 years old.\n"
      ],
      "metadata": {
        "colab": {
          "base_uri": "https://localhost:8080/"
        },
        "id": "JE-YfVqmHutY",
        "outputId": "159fdec3-4d10-4842-c43c-7cecb870a49a"
      },
      "execution_count": 16,
      "outputs": [
        {
          "output_type": "stream",
          "name": "stdout",
          "text": [
            "Hello, my name is Uttam and I am 21 years old.\n"
          ]
        }
      ]
    },
    {
      "cell_type": "markdown",
      "source": [
        "12.  Implement a class Student with attributes name and grades. Create a method average_grade() to compute\n",
        "the average of the grades."
      ],
      "metadata": {
        "id": "dP3KUWeqH-no"
      }
    },
    {
      "cell_type": "code",
      "source": [
        "class Student:\n",
        "    def __init__(self, name, grades):\n",
        "        self.name = name\n",
        "        self.grades = grades  # List of grades\n",
        "\n",
        "    def average_grade(self):\n",
        "        if not self.grades:\n",
        "            return 0\n",
        "        return sum(self.grades) / len(self.grades)\n",
        "\n",
        "# Example usage\n",
        "s1 = Student(\"Ravi\", [85, 90, 78, 92])\n",
        "average = s1.average_grade()\n",
        "print(f\"{s1.name}'s average grade is: {average:.2f}\")\n"
      ],
      "metadata": {
        "colab": {
          "base_uri": "https://localhost:8080/"
        },
        "id": "ZjjvDTgcH6BH",
        "outputId": "c23af2a7-ad06-49cb-fa0e-c35f0605c925"
      },
      "execution_count": 17,
      "outputs": [
        {
          "output_type": "stream",
          "name": "stdout",
          "text": [
            "Ravi's average grade is: 86.25\n"
          ]
        }
      ]
    },
    {
      "cell_type": "markdown",
      "source": [
        "13.  Create a class Rectangle with methods set_dimensions() to set the dimensions and area() to calculate the\n",
        "area."
      ],
      "metadata": {
        "id": "SOp2FMlFKlW-"
      }
    },
    {
      "cell_type": "code",
      "source": [
        "class Rectangle:\n",
        "    def __init__(self):\n",
        "        self.length = 0\n",
        "        self.width = 0\n",
        "\n",
        "    def set_dimensions(self, length, width):\n",
        "        self.length = length\n",
        "        self.width = width\n",
        "\n",
        "    def area(self):\n",
        "        return self.length * self.width\n",
        "\n",
        "# Example usage\n",
        "rect = Rectangle()\n",
        "rect.set_dimensions(5, 3)\n",
        "print(f\"Area of rectangle: {rect.area()}\")  # Output: Area of rectangle: 15\n"
      ],
      "metadata": {
        "colab": {
          "base_uri": "https://localhost:8080/"
        },
        "id": "hPypA3VCIGbK",
        "outputId": "071bee58-f352-45ab-ed56-0d3a7ce7ac34"
      },
      "execution_count": 18,
      "outputs": [
        {
          "output_type": "stream",
          "name": "stdout",
          "text": [
            "Area of rectangle: 15\n"
          ]
        }
      ]
    },
    {
      "cell_type": "markdown",
      "source": [
        "14.  Create a class Employee with a method calculate_salary() that computes the salary based on hours worked\n",
        "and hourly rate. Create a derived class Manager that adds a bonus to the salary."
      ],
      "metadata": {
        "id": "vuF45thbK0OF"
      }
    },
    {
      "cell_type": "code",
      "source": [
        "# Base class\n",
        "class Employee:\n",
        "    def __init__(self, name, hours_worked, hourly_rate):\n",
        "        self.name = name\n",
        "        self.hours_worked = hours_worked\n",
        "        self.hourly_rate = hourly_rate\n",
        "\n",
        "    def calculate_salary(self):\n",
        "        return self.hours_worked * self.hourly_rate\n",
        "\n",
        "# Derived class\n",
        "class Manager(Employee):\n",
        "    def __init__(self, name, hours_worked, hourly_rate, bonus):\n",
        "        super().__init__(name, hours_worked, hourly_rate)\n",
        "        self.bonus = bonus\n",
        "\n",
        "    def calculate_salary(self):\n",
        "        base_salary = super().calculate_salary()\n",
        "        return base_salary + self.bonus\n",
        "\n",
        "# Example usage\n",
        "emp = Employee(\"Ravi\", 40, 200)\n",
        "mgr = Manager(\"Priya\", 40, 250, 5000)\n",
        "\n",
        "print(f\"{emp.name}'s Salary: ₹{emp.calculate_salary()}\")\n",
        "print(f\"{mgr.name}'s Salary (with bonus): ₹{mgr.calculate_salary()}\")\n"
      ],
      "metadata": {
        "colab": {
          "base_uri": "https://localhost:8080/"
        },
        "id": "Wy0ghYSPKyiO",
        "outputId": "581f8dd7-4ce2-4ebd-ff64-df1d0d00a7c6"
      },
      "execution_count": 19,
      "outputs": [
        {
          "output_type": "stream",
          "name": "stdout",
          "text": [
            "Ravi's Salary: ₹8000\n",
            "Priya's Salary (with bonus): ₹15000\n"
          ]
        }
      ]
    },
    {
      "cell_type": "markdown",
      "source": [
        "15.  Create a class Product with attributes name, price, and quantity. Implement a method total_price() that\n",
        "calculates the total price of the product."
      ],
      "metadata": {
        "id": "c1v8K9dUK9hl"
      }
    },
    {
      "cell_type": "code",
      "source": [
        "class Product:\n",
        "    def __init__(self, name, price, quantity):\n",
        "        self.name = name\n",
        "        self.price = price      # Price per unit\n",
        "        self.quantity = quantity\n",
        "\n",
        "    def total_price(self):\n",
        "        return self.price * self.quantity\n",
        "\n",
        "# Example usage\n",
        "product1 = Product(\"Notebook\", 50, 4)\n",
        "print(f\"Total price for {product1.name}s: ₹{product1.total_price()}\")\n"
      ],
      "metadata": {
        "colab": {
          "base_uri": "https://localhost:8080/"
        },
        "id": "swEJVgsNK7r1",
        "outputId": "e6a83cf5-f6f8-439d-d6a7-6a3f30570a1e"
      },
      "execution_count": 20,
      "outputs": [
        {
          "output_type": "stream",
          "name": "stdout",
          "text": [
            "Total price for Notebooks: ₹200\n"
          ]
        }
      ]
    },
    {
      "cell_type": "markdown",
      "source": [
        "16. Create a class Animal with an abstract method sound(). Create two derived classes Cow and Sheep that\n",
        "implement the sound() method."
      ],
      "metadata": {
        "id": "5rql0uaSLHlV"
      }
    },
    {
      "cell_type": "code",
      "source": [
        "from abc import ABC, abstractmethod\n",
        "\n",
        "# Abstract base class\n",
        "class Animal(ABC):\n",
        "    @abstractmethod\n",
        "    def sound(self):\n",
        "        pass\n",
        "\n",
        "# Derived class: Cow\n",
        "class Cow(Animal):\n",
        "    def sound(self):\n",
        "        return \"Moo\"\n",
        "\n",
        "# Derived class: Sheep\n",
        "class Sheep(Animal):\n",
        "    def sound(self):\n",
        "        return \"Baa\"\n",
        "\n",
        "# Example usage\n",
        "cow = Cow()\n",
        "sheep = Sheep()\n",
        "\n",
        "print(f\"Cow says: {cow.sound()}\")\n",
        "print(f\"Sheep says: {sheep.sound()}\")\n"
      ],
      "metadata": {
        "colab": {
          "base_uri": "https://localhost:8080/"
        },
        "id": "-4ZWzOn4LE2O",
        "outputId": "2f7a0bce-ddaa-48ea-a44f-5b99e045de0f"
      },
      "execution_count": 21,
      "outputs": [
        {
          "output_type": "stream",
          "name": "stdout",
          "text": [
            "Cow says: Moo\n",
            "Sheep says: Baa\n"
          ]
        }
      ]
    },
    {
      "cell_type": "markdown",
      "source": [
        "17.  Create a class Book with attributes title, author, and year_published. Add a method get_book_info() that\n",
        "returns a formatted string with the book's details."
      ],
      "metadata": {
        "id": "bUGjbar3LRBN"
      }
    },
    {
      "cell_type": "code",
      "source": [
        "class Book:\n",
        "    def __init__(self, title, author, year_published):\n",
        "        self.title = title\n",
        "        self.author = author\n",
        "        self.year_published = year_published\n",
        "\n",
        "    def get_book_info(self):\n",
        "        return f\"'{self.title}' by {self.author} (Published in {self.year_published})\"\n",
        "\n",
        "# Example usage\n",
        "book1 = Book(\"life style\", \"uttam\", 2025)\n",
        "print(book1.get_book_info())\n"
      ],
      "metadata": {
        "colab": {
          "base_uri": "https://localhost:8080/"
        },
        "id": "t8IxUabILNJl",
        "outputId": "a63baf5c-392b-4f50-8586-36b27a7c687c"
      },
      "execution_count": 22,
      "outputs": [
        {
          "output_type": "stream",
          "name": "stdout",
          "text": [
            "'life style' by uttam (Published in 2025)\n"
          ]
        }
      ]
    },
    {
      "cell_type": "markdown",
      "source": [
        "18.  Create a class House with attributes address and price. Create a derived class Mansion that adds an\n",
        "attribute number_of_rooms."
      ],
      "metadata": {
        "id": "KSoPRHo9Lht1"
      }
    },
    {
      "cell_type": "code",
      "source": [
        "# Base class\n",
        "class House:\n",
        "    def __init__(self, address, price):\n",
        "        self.address = address\n",
        "        self.price = price\n",
        "\n",
        "    def get_info(self):\n",
        "        return f\"Address: {self.address}, Price: ₹{self.price}\"\n",
        "\n",
        "# Derived class\n",
        "class Mansion(House):\n",
        "    def __init__(self, address, price, number_of_rooms):\n",
        "        super().__init__(address, price)\n",
        "        self.number_of_rooms = number_of_rooms\n",
        "\n",
        "    def get_info(self):\n",
        "        base_info = super().get_info()\n",
        "        return f\"{base_info}, Rooms: {self.number_of_rooms}\"\n",
        "\n",
        "# Example usage\n",
        "m1 = Mansion(\"baharagora, jharkhand\", 500000, 10)\n",
        "print(m1.get_info())\n"
      ],
      "metadata": {
        "colab": {
          "base_uri": "https://localhost:8080/"
        },
        "id": "eubK5fwZLgDE",
        "outputId": "1783fdfd-50bf-4c03-9987-2b1b7a4aa40a"
      },
      "execution_count": 24,
      "outputs": [
        {
          "output_type": "stream",
          "name": "stdout",
          "text": [
            "Address: baharagora, jharkhand, Price: ₹500000, Rooms: 10\n"
          ]
        }
      ]
    },
    {
      "cell_type": "code",
      "source": [],
      "metadata": {
        "id": "D0NTEkdVLoek"
      },
      "execution_count": null,
      "outputs": []
    }
  ]
}